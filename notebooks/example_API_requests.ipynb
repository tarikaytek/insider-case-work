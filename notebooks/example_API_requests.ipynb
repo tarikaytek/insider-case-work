{
 "cells": [
  {
   "cell_type": "markdown",
   "metadata": {},
   "source": [
    "# Recommender App Example API Calls Notebook\n",
    "\n",
    "This notebook demonstrates how to make API calls to the Flask application endpoints `/recommend` and `/similar`. We'll use the `requests` library to send HTTP requests and handle the responses.\n",
    "\n",
    "## Setup\n",
    "\n",
    "First, ensure that the Flask app is running. You can start the server by running the `app.py` file. Make sure the server is accessible at `http://localhost:5000`.\n",
    "\n",
    "### Installing Required Packages\n",
    "\n",
    "You can install the necessary Python packages using the following command:\n",
    "\n",
    "```bash\n",
    "pip install requests\n"
   ]
  },
  {
   "cell_type": "code",
   "execution_count": 1,
   "metadata": {},
   "outputs": [],
   "source": [
    "import requests\n",
    "import json"
   ]
  },
  {
   "cell_type": "markdown",
   "metadata": {},
   "source": [
    "### Introducing endpoints\n",
    "\n",
    "There is two main functions of this app. \n",
    "\n",
    "- recommend endpoint: Get recommendations with an userId for an already registered user. This will return recommendations based on user's previous behavior.\n",
    "\n",
    "- similar endpoint: Get similar items recommendation with an itemId for a cold start or similar items section. This will return recommendations that are similar to given itemId."
   ]
  },
  {
   "cell_type": "code",
   "execution_count": 4,
   "metadata": {},
   "outputs": [],
   "source": [
    "# Base URL of the API\n",
    "base_url = 'http://localhost:5000'\n",
    "\n",
    "# Endpoints\n",
    "recommend_endpoint = f'{base_url}/recommend'\n",
    "similar_endpoint = f'{base_url}/similar'\n",
    "\n",
    "# Home page for checking if the API is running\n",
    "home_page = f'{base_url}/'"
   ]
  },
  {
   "cell_type": "code",
   "execution_count": 10,
   "metadata": {},
   "outputs": [
    {
     "data": {
      "text/plain": [
       "(200, 'I am alive!')"
      ]
     },
     "execution_count": 10,
     "metadata": {},
     "output_type": "execute_result"
    }
   ],
   "source": [
    "# Check if the API is running\n",
    "response = requests.get(home_page)\n",
    "response.status_code, response.text"
   ]
  },
  {
   "cell_type": "code",
   "execution_count": null,
   "metadata": {},
   "outputs": [],
   "source": [
    "#TODO: better to add a function to check the response status code and return the response text\n",
    "#TODO: better to make below blocks a function"
   ]
  },
  {
   "cell_type": "code",
   "execution_count": 18,
   "metadata": {},
   "outputs": [
    {
     "data": {
      "text/plain": [
       "(200,\n",
       " {'recommended_items': ['5edb4e8e2e635e611e3a6f7f0c019eeb',\n",
       "   '30b8a8a8c59f1af8aa2e4a808ea41dd0',\n",
       "   '0073290e3fa8c300e1b697f68f32ce38',\n",
       "   'aacd2328a7965c764fee0a22869f99bd',\n",
       "   'd5979e28c248b49d1527fda897511593',\n",
       "   '3bbdea29f99482c95d230ffc622b6d6a',\n",
       "   '82f1cdab53b27c76e559bd7f6a24496a',\n",
       "   '840c698196020af86f0d50e6f6d03fa7',\n",
       "   '3c53e4a29408a863125d6afbd83a2e6f',\n",
       "   '2b2445bba163a98c5035100bf87bddfe'],\n",
       "  'user_id': '97e5da3ce9a142fdb2ed7694dd7dc82c'})"
      ]
     },
     "execution_count": 18,
     "metadata": {},
     "output_type": "execute_result"
    }
   ],
   "source": [
    "# Get recommendations for a user\n",
    "user_id = \"97e5da3ce9a142fdb2ed7694dd7dc82c\"\n",
    "\n",
    "params = {\n",
    "    'user_id': user_id,\n",
    "    # 'num_recommendations': 10\n",
    "}\n",
    "\n",
    "response = requests.get(recommend_endpoint, params=params)\n",
    "response.status_code, response.json()"
   ]
  },
  {
   "cell_type": "code",
   "execution_count": 21,
   "metadata": {},
   "outputs": [
    {
     "data": {
      "text/plain": [
       "(200,\n",
       " {'item_id': '83e9e0606443b7bed19cd8f423cb552d',\n",
       "  'similar_items': ['83e9e0606443b7bed19cd8f423cb552d',\n",
       "   '327eebb5d016ebb44f98583b33112476',\n",
       "   'fab1de3716503c35ac80bd4d5cd4e712',\n",
       "   '436cc26999a1c57239905dea0c62431d',\n",
       "   '6bf12ddc2a1624acbf1ec83ca5eb1d31',\n",
       "   '923d329499028ea2676e3421c11444cd',\n",
       "   '2d89fa36dd7713888ef1dae79bf3976c',\n",
       "   '4ef823eeef4a4bd41d23ba6a8e334eb4',\n",
       "   '68b601e4eace3f26ae3d294214e4c044',\n",
       "   'bf16ee90440c80a0f5bc66b2d567fb04']})"
      ]
     },
     "execution_count": 21,
     "metadata": {},
     "output_type": "execute_result"
    }
   ],
   "source": [
    "# Get recommendations for a user\n",
    "item_id = \"83e9e0606443b7bed19cd8f423cb552d\"\n",
    "\n",
    "params = {\n",
    "    'item_id': item_id,\n",
    "    # 'num_recommendations': 10\n",
    "}\n",
    "\n",
    "response = requests.get(similar_endpoint, params=params)\n",
    "response.status_code, response.json()"
   ]
  }
 ],
 "metadata": {
  "kernelspec": {
   "display_name": "Python 3",
   "language": "python",
   "name": "python3"
  },
  "language_info": {
   "codemirror_mode": {
    "name": "ipython",
    "version": 3
   },
   "file_extension": ".py",
   "mimetype": "text/x-python",
   "name": "python",
   "nbconvert_exporter": "python",
   "pygments_lexer": "ipython3",
   "version": "3.12.4"
  }
 },
 "nbformat": 4,
 "nbformat_minor": 2
}
